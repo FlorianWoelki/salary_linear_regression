{
 "cells": [
  {
   "cell_type": "markdown",
   "metadata": {},
   "source": [
    "# Salary Linear Regression\n",
    "\n",
    "## Introduction\n",
    "This jupyter notebook is for learning purposes and you might learn something from this as well.\n",
    "I will try to explain everything you see in this notebook."
   ]
  },
  {
   "cell_type": "markdown",
   "metadata": {},
   "source": [
    "## Dependencies"
   ]
  },
  {
   "cell_type": "code",
   "execution_count": 2,
   "metadata": {
    "scrolled": true
   },
   "outputs": [],
   "source": [
    "# using pandas for reading the csv file\n",
    "import pandas as pd\n",
    "# using numpy for easier calculations\n",
    "import numpy as np\n",
    "# using matplotlib for plotting\n",
    "import matplotlib.pyplot as plt"
   ]
  },
  {
   "cell_type": "markdown",
   "metadata": {},
   "source": [
    "## Dataset\n",
    "\n",
    "This dataset is generated and only for testing purposes. You can see in the following cell, how I load the file with its data.\n",
    "\n",
    "We have the following data:\n",
    "* 'experience' - experience in years for the employee\n",
    "* 'salary' - what salary he had in month"
   ]
  },
  {
   "cell_type": "code",
   "execution_count": 4,
   "metadata": {},
   "outputs": [
    {
     "name": "stdout",
     "output_type": "stream",
     "text": [
      "   experience  salary\n",
      "0         0.5    2500\n",
      "1         0.0    2250\n",
      "2         1.0    2750\n",
      "3         5.0    8000\n",
      "4         8.0    9000\n"
     ]
    }
   ],
   "source": [
    "# read data from file\n",
    "housing_data = pd.read_csv('salary.csv')\n",
    "# print the first 5 elements in the data\n",
    "print(housing_data.head())"
   ]
  },
  {
   "cell_type": "markdown",
   "metadata": {},
   "source": [
    "Display data of the csv file by using matplotlib and the scatter function.\n",
    "\n",
    "Also getting x and y for further computations."
   ]
  },
  {
   "cell_type": "code",
   "execution_count": 29,
   "metadata": {},
   "outputs": [
    {
     "data": {
      "image/png": "[encoded data removed]",
      "text/plain": [
       "<Figure size 432x288 with 1 Axes>"
      ]
     },
     "metadata": {
      "needs_background": "light"
     },
     "output_type": "display_data"
    }
   ],
   "source": [
    "# defining x and y\n",
    "x = housing_data['experience']\n",
    "y = housing_data['salary']\n",
    "\n",
    "# plot a normal scatter graph\n",
    "plt.scatter(x, y)\n",
    "plt.show()"
   ]
  },
  {
   "cell_type": "markdown",
   "metadata": {},
   "source": [
    "<h2>Formular for calculating the error</h2>\n",
    "<img src=\"resources/error.png\" />"
   ]
  },
  {
   "cell_type": "code",
   "execution_count": 30,
   "metadata": {},
   "outputs": [],
   "source": [
    "def compute_error(b, m, x_points, y_points):\n",
    "    total_error = 0\n",
    "    for i in range(0, len(x_points)):\n",
    "        # get x and y for the point in the graph\n",
    "        x = x_points[i]\n",
    "        y = y_points[i]\n",
    "        # add the current error to the total error using error linear regression\n",
    "        total_error += (y - (m * x + b)) ** 2\n",
    "    # divide by the length of the points to get a more accurate value\n",
    "    return total_error / float(len(x_points)) "
   ]
  },
  {
   "cell_type": "markdown",
   "metadata": {},
   "source": [
    "<h2>Gradient Descent formular with derivative</h2>\n",
    "<img src=\"resources/gradient_descent.png\" />"
   ]
  },
  {
   "cell_type": "code",
   "execution_count": 31,
   "metadata": {},
   "outputs": [],
   "source": [
    "def step_gradient(b_current, m_current, x_points, y_points, learning_rate):\n",
    "    # define initial values\n",
    "    b_gradient = 0\n",
    "    m_gradient = 0\n",
    "    # how many elements are in the list\n",
    "    N = float(len(x_points))\n",
    "    for i in range(0, len(x_points)):\n",
    "        # get x and y for the specific point\n",
    "        x = x_points[i]\n",
    "        y = y_points[i]\n",
    "        \n",
    "        # calculate b and m by using the partial derivative of the linear regression function\n",
    "        b_gradient += -(2 / N) * (y - (m_current * x + b_current))\n",
    "        m_gradient += -(2 / N) * x * (y - (m_current * x + b_current))\n",
    "    # set the new b and m by multiplying the learning rate to the gradient for avoiding overfitting\n",
    "    # then calculate the difference between the current gradient and new gradient by getting the actual new b and m\n",
    "    new_b = b_current - learning_rate * b_gradient\n",
    "    new_m = m_current - learning_rate * m_gradient\n",
    "    return [new_b, new_m]"
   ]
  },
  {
   "cell_type": "markdown",
   "metadata": {},
   "source": [
    "Here the learning happens.\n",
    "\n",
    "We loop through something called 'epochs' which are the number of iterations to learn.\n",
    "\n",
    "Then we plot it with matplotlib scatter function and we are displaying the linear function of the learned parameters b and m.\n",
    "\n",
    "In addition, we are trying to predict the salary for 20 years of experience."
   ]
  },
  {
   "cell_type": "code",
   "execution_count": 35,
   "metadata": {},
   "outputs": [
    {
     "name": "stdout",
     "output_type": "stream",
     "text": [
      "Starting gradient descent at b = 0, m = 0, error = 107588214.28571428\n",
      "Running...\n",
      "After 10000 iterations b = 928.3237567950539, m = 1212.8323262814088, error = 886620.4606040146\n"
     ]
    },
    {
     "data": {
      "image/png": "[encoded data removed]",
      "text/plain": [
       "<Figure size 432x288 with 1 Axes>"
      ]
     },
     "metadata": {
      "needs_background": "light"
     },
     "output_type": "display_data"
    },
    {
     "name": "stdout",
     "output_type": "stream",
     "text": [
      "Next Salary: 25184.970282423226\n"
     ]
    }
   ],
   "source": [
    "# define learning rate for not overfitting\n",
    "learning_rate = 0.0001\n",
    "# epochs - number of iterations for this algorithm to calculate\n",
    "epochs = 10000\n",
    "# initial values for m and b\n",
    "b = 0\n",
    "m = 0\n",
    "\n",
    "print(\"Starting gradient descent at b = {0}, m = {1}, error = {2}\".format(b, m, compute_error(b, m, x, y)))\n",
    "print(\"Running...\")\n",
    "\n",
    "for i in range(epochs):\n",
    "    b, m = step_gradient(b, m, x, y, learning_rate)\n",
    "\n",
    "print(\"After {0} iterations b = {1}, m = {2}, error = {3}\".format(epochs, b, m, compute_error(b, m, x, y)))\n",
    "\n",
    "# plot the linear regression prediction\n",
    "plt.scatter(x, y)\n",
    "plt.plot(x, m * x + b, color='red')\n",
    "plt.show()\n",
    "\n",
    "# calculate the next salary with the experience(x) of 20 years\n",
    "# y = m * x + b\n",
    "print(\"Next Salary: {0}\".format(m * 20 + b))"
   ]
  },
  {
   "cell_type": "code",
   "execution_count": null,
   "metadata": {},
   "outputs": [],
   "source": []
  }
 ],
 "metadata": {
  "kernelspec": {
   "display_name": "Python 3",
   "language": "python",
   "name": "python3"
  },
  "language_info": {
   "codemirror_mode": {
    "name": "ipython",
    "version": 3
   },
   "file_extension": ".py",
   "mimetype": "text/x-python",
   "name": "python",
   "nbconvert_exporter": "python",
   "pygments_lexer": "ipython3",
   "version": "3.5.0"
  }
 },
 "nbformat": 4,
 "nbformat_minor": 2
}
